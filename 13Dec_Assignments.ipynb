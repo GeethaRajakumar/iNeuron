{
  "nbformat": 4,
  "nbformat_minor": 0,
  "metadata": {
    "colab": {
      "provenance": [],
      "authorship_tag": "ABX9TyPk6han6kvteSXanetwONzz",
      "include_colab_link": true
    },
    "kernelspec": {
      "name": "python3",
      "display_name": "Python 3"
    },
    "language_info": {
      "name": "python"
    }
  },
  "cells": [
    {
      "cell_type": "markdown",
      "metadata": {
        "id": "view-in-github",
        "colab_type": "text"
      },
      "source": [
        "<a href=\"https://colab.research.google.com/github/GeethaRajakumar/iNeuron/blob/main/13Dec_Assignments.ipynb\" target=\"_parent\"><img src=\"https://colab.research.google.com/assets/colab-badge.svg\" alt=\"Open In Colab\"/></a>"
      ]
    },
    {
      "cell_type": "markdown",
      "source": [
        "WAP to accept two numbers from the user and display their sum\n",
        "\n",
        "WAP to accept radius of a Circle from the user and calculate area and circumference\n",
        "\n",
        "WAP to accept roll number , grade and percentage as input from the user and display it back\n",
        "\n",
        "Write a program that asks the user to enter his/her name and age. Print out a message , displaying the user’s name along with the year in which they will turn 100 years old.\n",
        "Write a program that asks the user to input 2 integers and adds them . Accept both the numbers in a single line only\n",
        "\n",
        "Write a Python program which accepts the user's first and last name and print them in reverse order with a space between them.\n"
      ],
      "metadata": {
        "id": "cuZRYqFWwNjy"
      }
    },
    {
      "cell_type": "code",
      "execution_count": 4,
      "metadata": {
        "colab": {
          "base_uri": "https://localhost:8080/"
        },
        "id": "WiyRfpYGuxiF",
        "outputId": "083db40f-4ab0-46d3-de4d-0fac8fcce4b2"
      },
      "outputs": [
        {
          "output_type": "stream",
          "name": "stdout",
          "text": [
            "Please enter the first number : 45\n",
            "Please enter the second number : 15\n",
            "The sum of the two numbers that you entered is 60\n"
          ]
        }
      ],
      "source": [
        "#WAP to accept two numbers from the user and display their sum\n",
        "firstNum = int(input(\"Please enter the first number : \"))\n",
        "secondNum = int(input(\"Please enter the second number : \"))\n",
        "print(\"The sum of the two numbers that you entered is\", firstNum + secondNum)"
      ]
    },
    {
      "cell_type": "code",
      "source": [
        "#WAP to accept radius of a Circle from the user and calculate area and circumference\n",
        "import math\n",
        "radius = float(input(\"Please enter the radius of the circle : \"))\n",
        "print(\"Area of the circle is :\",math.pi*radius*radius)\n",
        "print(\"Circumference of the circle is :\",2 * math.pi*radius)"
      ],
      "metadata": {
        "colab": {
          "base_uri": "https://localhost:8080/"
        },
        "id": "Ftpu1t1SxKYr",
        "outputId": "17ce9d75-24da-4d01-e1d4-0f3dd358551d"
      },
      "execution_count": 5,
      "outputs": [
        {
          "output_type": "stream",
          "name": "stdout",
          "text": [
            "Please enter the radius of the circle : 12\n",
            "Area of the circle is : 452.3893421169302\n",
            "Circumference of the circle is : 75.39822368615503\n"
          ]
        }
      ]
    },
    {
      "cell_type": "code",
      "source": [
        "#WAP to accept roll number , grade and percentage as input from the user and display it back\n",
        "rollNum = input(\"Please enter your roll number : \")\n",
        "grade = input(\"Please enter your grade : \")\n",
        "percentage = input(\"Please enter your percentage : \")\n",
        "print (\"Your roll number is {}. Your grade is {} . Your percentage is {}.\".format( rollNum, grade, percentage))"
      ],
      "metadata": {
        "colab": {
          "base_uri": "https://localhost:8080/"
        },
        "id": "d834S7qsx0du",
        "outputId": "2c00a474-ce12-4b6b-d99f-3d4f15a8ba6e"
      },
      "execution_count": 8,
      "outputs": [
        {
          "output_type": "stream",
          "name": "stdout",
          "text": [
            "Please enter your roll number : 202201\n",
            "Please enter your grade : B\n",
            "Please enter your percentage : 72\n",
            "Your roll number is 202201. Your grade is B . Your percentage is 72.\n"
          ]
        }
      ]
    },
    {
      "cell_type": "code",
      "source": [
        "#Write a program that asks the user to enter his/her name and age. \n",
        "#Print out a message , displaying the user’s name along with the year in which they will turn 100 years old.\n",
        "from datetime import date\n",
        "\n",
        "name = input('Enter your name : ')\n",
        "\n",
        "#this program will have slight error since we do not know if his birthday has passed\n",
        "#so we are asking his age as on 31 dec of this year\n",
        "age = int(input(name +' what is your age on 31 Dec ' + str(date.today().year) + ' :'))\n",
        "print('The year you will become hundred years old is ' + str( date.today().year + (100 - age)))"
      ],
      "metadata": {
        "colab": {
          "base_uri": "https://localhost:8080/"
        },
        "id": "U1JXftD7zFt4",
        "outputId": "654cadb2-84c7-4db9-ac2b-6ee7e947b463"
      },
      "execution_count": 11,
      "outputs": [
        {
          "output_type": "stream",
          "name": "stdout",
          "text": [
            "Enter your name : Dan\n",
            "Dan what is your age on 31 Dec 2022 :22\n",
            "The year you will become hundred years old is 2100\n"
          ]
        }
      ]
    },
    {
      "cell_type": "code",
      "source": [
        "# Write a program that asks the user to input 2 integers and adds them . Accept both the numbers in a single line only\n",
        "x, y = input(\"Enter the two numbers you want to be added \").split()\n",
        "print(\"the sum of the numbers you inputted is\", str(int(x) + int(y)))"
      ],
      "metadata": {
        "colab": {
          "base_uri": "https://localhost:8080/"
        },
        "id": "k1kcc52lzPjT",
        "outputId": "e2df0a9a-39d3-4842-8abe-ba3824e2140c"
      },
      "execution_count": 13,
      "outputs": [
        {
          "output_type": "stream",
          "name": "stdout",
          "text": [
            "Enter the two numbers you want to be added 12 18\n",
            "the sum of the numbers you inputted is 30\n"
          ]
        }
      ]
    },
    {
      "cell_type": "code",
      "source": [
        "#Write a Python program which accepts the user's first and last name and print them in reverse order with a space between them.\n",
        "firstName, SecondName = input(\"Enter your fullname : \").split()\n",
        "print(firstName[::-1], SecondName[::-1])"
      ],
      "metadata": {
        "colab": {
          "base_uri": "https://localhost:8080/"
        },
        "id": "LFEI4lAfzF7P",
        "outputId": "13f3e219-45b1-4759-a3c2-0a1ddc1af509"
      },
      "execution_count": 15,
      "outputs": [
        {
          "output_type": "stream",
          "name": "stdout",
          "text": [
            "Enter your fullname : 123 4567\n",
            "321 7654\n"
          ]
        }
      ]
    }
  ]
}