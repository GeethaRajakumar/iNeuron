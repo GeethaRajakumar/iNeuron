{
  "nbformat": 4,
  "nbformat_minor": 0,
  "metadata": {
    "colab": {
      "provenance": [],
      "authorship_tag": "ABX9TyNaFbAOZkl93lfEH1e2YaVl",
      "include_colab_link": true
    },
    "kernelspec": {
      "name": "python3",
      "display_name": "Python 3"
    },
    "language_info": {
      "name": "python"
    }
  },
  "cells": [
    {
      "cell_type": "markdown",
      "metadata": {
        "id": "view-in-github",
        "colab_type": "text"
      },
      "source": [
        "<a href=\"https://colab.research.google.com/github/GeethaRajakumar/iNeuron/blob/main/15_Dec_Assignment.ipynb\" target=\"_parent\"><img src=\"https://colab.research.google.com/assets/colab-badge.svg\" alt=\"Open In Colab\"/></a>"
      ]
    },
    {
      "cell_type": "code",
      "execution_count": 2,
      "metadata": {
        "colab": {
          "base_uri": "https://localhost:8080/"
        },
        "id": "J1sbxUra3_EA",
        "outputId": "8198efc3-ce8f-46dc-aab6-5801cf73b8e6"
      },
      "outputs": [
        {
          "output_type": "stream",
          "name": "stdout",
          "text": [
            "Enter an integer : 1245\n",
            "1245 is odd\n"
          ]
        }
      ],
      "source": [
        "#write a program to accept an integer from the user and check whether it is an even or odd\n",
        "x = int(input('Enter an integer : '))\n",
        "if x % 2 == 0 :\n",
        "  print(str(x), 'is even')\n",
        "else:\n",
        "  print(str(x), 'is odd')  "
      ]
    },
    {
      "cell_type": "code",
      "source": [
        "#write a program to accept a character from the user and check whether it is a capital letter or small letter. \n",
        "#Assume user will input only alphabets\n",
        "chr = input('Enter the character to be checked : ')\n",
        "if chr.isupper() == True :\n",
        "  print(\"Entered character is UpperCase\")\n",
        "else:\n",
        "  print(\"Entered character is LowerCase\")"
      ],
      "metadata": {
        "colab": {
          "base_uri": "https://localhost:8080/"
        },
        "id": "bIsWawi87PYM",
        "outputId": "ff47250a-810a-4345-f622-698d3148b0b7"
      },
      "execution_count": 4,
      "outputs": [
        {
          "output_type": "stream",
          "name": "stdout",
          "text": [
            "Enter the character to be checked : u\n",
            "Entered character is LowerCase\n"
          ]
        }
      ]
    },
    {
      "cell_type": "code",
      "source": [
        "#write a program to accept a character from the user and check whether \n",
        "#it is a capital letter or small letter or a digit or some special symbol\n",
        "chr = input('Enter the character to be checked : ')\n",
        "if chr.isalpha() == True:\n",
        "  if chr.isupper() == True :\n",
        "    print(\"Entered character is UpperCase\")\n",
        "  else:\n",
        "    print(\"Entered character is LowerCase\")\n",
        "elif chr.isnumeric() == True:\n",
        "  print(\"Entered character is a number\")\n",
        "else:\n",
        "  print(\"Entered character is a symbol\")"
      ],
      "metadata": {
        "colab": {
          "base_uri": "https://localhost:8080/"
        },
        "id": "R4XO4SzE9mqs",
        "outputId": "204835a6-9d52-4a6c-c199-3ba3628ccb80"
      },
      "execution_count": 5,
      "outputs": [
        {
          "output_type": "stream",
          "name": "stdout",
          "text": [
            "Enter the character to be checked : @\n",
            "Entered character is a symbol\n"
          ]
        }
      ]
    },
    {
      "cell_type": "code",
      "source": [
        "#write a program to accept 3 integers from the user and \n",
        "#without using any logical operator and cascading of relational operators , \n",
        "#find out the greatest number amongst them\n",
        "x,y,z = input(\"Enter three numbers :\").split()\n",
        "print (\"The greatest value is \", max(int(x),int(y),int(z)))"
      ],
      "metadata": {
        "colab": {
          "base_uri": "https://localhost:8080/"
        },
        "id": "6YiQ-yHWBL8K",
        "outputId": "5478dc31-bf96-4d69-e6ab-87316ee1caf2"
      },
      "execution_count": 8,
      "outputs": [
        {
          "output_type": "stream",
          "name": "stdout",
          "text": [
            "Enter three numbers :12 33 4\n",
            "The greatest value is  33\n"
          ]
        }
      ]
    },
    {
      "cell_type": "code",
      "source": [
        "#write a program to accept a year from the user and check whether it is a leap year or not.\n",
        "year = int(input(\"Enter the year to be checked : \"))\n",
        "if (year % 4 == 0 and year % 100 != 0) or ( year % 400 ==0):\n",
        "    print(\"Entered year \", year, \"is a leap year\")\n",
        "else:\n",
        "   print(\"Entered year \", year, \"is not a leap year\")\n"
      ],
      "metadata": {
        "colab": {
          "base_uri": "https://localhost:8080/"
        },
        "id": "HMUKmIvNDqkd",
        "outputId": "9460ea56-828b-44e0-a4ff-2cc06dc21fe8"
      },
      "execution_count": 13,
      "outputs": [
        {
          "output_type": "stream",
          "name": "stdout",
          "text": [
            "Enter the year to be checked : 1700\n",
            "Entered year  1700 is not a leap year\n"
          ]
        }
      ]
    },
    {
      "cell_type": "code",
      "source": [
        "#You have to develop a number guessing game. Following are the steps needed:\n",
        "#At first , the program will generate a random integer secretly.\n",
        "#Now it will ask the user to guess that number .\n",
        "\n",
        "#If the user guessed it correctly then the program prints “Congratulations! You guessed it right” .\n",
        "#But if the number guessed by the user is larger than the secret number then program should print “Number too large” and , \n",
        "#if the number guessed by the user is smaller than the secret number then the program should print “Number too small” \n",
        "#This should continue until the user guesses the number correctly or quits .\n",
        "\n",
        "#If the user wants to quit in between he will have to type 0 or negative number\n",
        "import random\n",
        "randVal = random.randint(1,100)\n",
        "userVal = int(input(\"Welcome to the Guess the number program.\\n Enter integer value in range 1 to 100. \\nEnter 0 or -Ve number to exit : \"))\n",
        "while randVal != userVal:\n",
        "  if userVal < 1:\n",
        "    print(\"You have quit the program\")\n",
        "    break\n",
        "  if randVal < userVal:\n",
        "    userVal = int(input(\"Number is too large. Enter a smaller number : \"))\n",
        "  else:\n",
        "    userVal = int(input(\"Number is too small. Enter a larger number : \"))\n",
        "print(\"Congratulations! You guessed it right\")\n"
      ],
      "metadata": {
        "colab": {
          "base_uri": "https://localhost:8080/"
        },
        "id": "ZSRlzaI_Gb6e",
        "outputId": "05df0059-1fff-48ca-b6ed-b9c3e9e3b309"
      },
      "execution_count": 19,
      "outputs": [
        {
          "output_type": "stream",
          "name": "stdout",
          "text": [
            "Welcome to the Guess the number program.\n",
            " Enter integer value in range 1 to 100. \n",
            "Enter 0 or -Ve number to exit : 50\n",
            "Number is too small. Enter a larger number : 75\n",
            "Number is too small. Enter a larger number : 85\n",
            "Number is too small. Enter a larger number : 95\n",
            "Number is too large. Enter a smaller number : 90\n",
            "Number is too large. Enter a smaller number : 87\n",
            "Number is too small. Enter a larger number : 88\n",
            "Number is too small. Enter a larger number : 89\n",
            "Congratulations! You guessed it right\n"
          ]
        }
      ]
    },
    {
      "cell_type": "code",
      "source": [
        "#Write a program to accept a string from the user and display it vertically but don’t display the vowels in it.\n",
        "str = input(\"Enter the string to be processed : \")\n",
        "for x in str:\n",
        "  if x in ['a','e','i','o','u']:\n",
        "    continue\n",
        "  print(x)"
      ],
      "metadata": {
        "colab": {
          "base_uri": "https://localhost:8080/"
        },
        "id": "CbLCOgp8KeRq",
        "outputId": "7f6c40c5-f511-4f96-9b49-dcad36538fc7"
      },
      "execution_count": 20,
      "outputs": [
        {
          "output_type": "stream",
          "name": "stdout",
          "text": [
            "Enter the string to be processed : hello\n",
            "h\n",
            "l\n",
            "l\n"
          ]
        }
      ]
    },
    {
      "cell_type": "code",
      "source": [
        "#Write a program to continuously accept integers from the user until the user types 0 and \n",
        "#as soon as 0 is entered display sum of all the nos entered before 0\n",
        "#Note:Modify the previous code so that if the user inputs a negative integer , your program should ignore it .\n",
        "sum = 0\n",
        "while True:\n",
        " i = int(input(\"Enter an integer value. 0 to exit\"))\n",
        " if ( i == 0):\n",
        "   break\n",
        " elif( i < 0):\n",
        "    continue\n",
        " else:\n",
        "    sum +=i\n",
        "\n",
        "print(\"The sum of the entered values is \", sum)"
      ],
      "metadata": {
        "colab": {
          "base_uri": "https://localhost:8080/"
        },
        "id": "lSGUtYzzR2ZW",
        "outputId": "4db93d46-6730-4b1c-f3a2-f5c7dde90440"
      },
      "execution_count": 21,
      "outputs": [
        {
          "output_type": "stream",
          "name": "stdout",
          "text": [
            "Enter an integer value. 0 to exit2\n",
            "Enter an integer value. 0 to exit4\n",
            "Enter an integer value. 0 to exit-2\n",
            "Enter an integer value. 0 to exit0\n",
            "The sum of the entered values is  6\n"
          ]
        }
      ]
    },
    {
      "cell_type": "code",
      "source": [
        "#Write a program to accept an integer from the user and display the sum of all the numbers from 1 to that number.\n",
        "sum = 0\n",
        "val = int(input(\"Enter an integer value : \"))\n",
        "\n",
        "for i in range(1,val+1):\n",
        "  sum+=i\n",
        "print(\"Sum of 1 to \",val,'is', sum)"
      ],
      "metadata": {
        "colab": {
          "base_uri": "https://localhost:8080/"
        },
        "id": "54dCrXI2S5DB",
        "outputId": "20edbeac-4887-47a0-a44b-589b367e1f70"
      },
      "execution_count": 22,
      "outputs": [
        {
          "output_type": "stream",
          "name": "stdout",
          "text": [
            "Enter an integer value : 5\n",
            "Sum of 1 to  5 is 15\n"
          ]
        }
      ]
    },
    {
      "cell_type": "code",
      "source": [
        "#Write a program to accept an integer from the user and calculate its factorial\n",
        "fact = 1\n",
        "val = int(input(\"Enter an integer value : \"))\n",
        "\n",
        "for i in range(1,val+1):\n",
        "  fact*=i\n",
        "print(\"Factorial of\",val,'is', fact)\n"
      ],
      "metadata": {
        "colab": {
          "base_uri": "https://localhost:8080/"
        },
        "id": "lOvLpK0JViRm",
        "outputId": "2d5fce57-befc-492a-e3ee-a20fc0d56f64"
      },
      "execution_count": 24,
      "outputs": [
        {
          "output_type": "stream",
          "name": "stdout",
          "text": [
            "Enter an integer value : 6\n",
            "Factorial of 6 is 720\n"
          ]
        }
      ]
    },
    {
      "cell_type": "code",
      "source": [
        "#Write a program to print the following pattern\n",
        "# ***\n",
        "# ***\n",
        "# ***\n",
        "# ***\n",
        "\n",
        "for i in range (4):\n",
        "  for j in range (3):\n",
        "    print(\"*\", end = \" \")\n",
        "  print(\"\")\n"
      ],
      "metadata": {
        "colab": {
          "base_uri": "https://localhost:8080/"
        },
        "id": "5dB1dN0nV-tm",
        "outputId": "92d1bd20-a8fb-4efd-d58f-217cf271723e"
      },
      "execution_count": 26,
      "outputs": [
        {
          "output_type": "stream",
          "name": "stdout",
          "text": [
            "* * * \n",
            "* * * \n",
            "* * * \n",
            "* * * \n"
          ]
        }
      ]
    },
    {
      "cell_type": "code",
      "source": [
        "#Write a program to print the following pattern\n",
        "# *\n",
        "# **\n",
        "# ***\n",
        "# ****\n",
        "for i in range (1,5):\n",
        "  print(\"* \" * i, )\n"
      ],
      "metadata": {
        "colab": {
          "base_uri": "https://localhost:8080/"
        },
        "id": "cFZbjn8XWzpl",
        "outputId": "50302631-7bce-4b7f-9a37-8923bc038636"
      },
      "execution_count": 28,
      "outputs": [
        {
          "output_type": "stream",
          "name": "stdout",
          "text": [
            "* \n",
            "* * \n",
            "* * * \n",
            "* * * * \n"
          ]
        }
      ]
    },
    {
      "cell_type": "code",
      "source": [
        "#Write a program to print the following pattern\n",
        "# ****\n",
        "# ***\n",
        "# **\n",
        "# *\n",
        "for i in range (4,-1,-1):\n",
        "  print(\"* \" * i, )"
      ],
      "metadata": {
        "colab": {
          "base_uri": "https://localhost:8080/"
        },
        "id": "EmUJMexCXYAm",
        "outputId": "27ea1585-a3cb-43a2-ae55-87ab011f597d"
      },
      "execution_count": 30,
      "outputs": [
        {
          "output_type": "stream",
          "name": "stdout",
          "text": [
            "* * * * \n",
            "* * * \n",
            "* * \n",
            "* \n",
            "\n"
          ]
        }
      ]
    },
    {
      "cell_type": "code",
      "source": [
        "#Write a program to accept an integer from the user and display all the numbers from 1 to that number.\n",
        "#Repeat the process until the user enters 0.\n",
        "while True:\n",
        "  num = int(input(\"Enter Integer to process. 0 to exit. \"))\n",
        "  if num == 0:\n",
        "    break\n",
        "  for i in range(1, num+1):\n",
        "    print(i ,end = \" \")\n"
      ],
      "metadata": {
        "colab": {
          "base_uri": "https://localhost:8080/"
        },
        "id": "T9rLYI0tX8d0",
        "outputId": "d6ddf7ee-65bd-49a6-95b5-22ed68f33918"
      },
      "execution_count": 33,
      "outputs": [
        {
          "name": "stdout",
          "output_type": "stream",
          "text": [
            "Enter Integer to process. 0 to exit 10\n",
            "1 2 3 4 5 6 7 8 9 10 Enter Integer to process. 0 to exit 5\n",
            "1 2 3 4 5 Enter Integer to process. 0 to exit 100\n",
            "1 2 3 4 5 6 7 8 9 10 11 12 13 14 15 16 17 18 19 20 21 22 23 24 25 26 27 28 29 30 31 32 33 34 35 36 37 38 39 40 41 42 43 44 45 46 47 48 49 50 51 52 53 54 55 56 57 58 59 60 61 62 63 64 65 66 67 68 69 70 71 72 73 74 75 76 77 78 79 80 81 82 83 84 85 86 87 88 89 90 91 92 93 94 95 96 97 98 99 100 Enter Integer to process. 0 to exit 0\n"
          ]
        }
      ]
    }
  ]
}